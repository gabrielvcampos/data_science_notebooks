{
 "cells": [
  {
   "cell_type": "markdown",
   "metadata": {},
   "source": [
    "# Predição dos Sobreviventes do Titanic \n",
    "\n",
    "#### Conteúdo:\n",
    "\n",
    " 1. Importação das bibliotecas do python\n",
    " 2. Leitura e Análise dos Dados\n",
    " 3. Visualização dos Dados\n",
    " 4. Limpeza dos Dados\n",
    " 5. Modelos de Predição\n",
    " \n",
    " "
   ]
  },
  {
   "cell_type": "markdown",
   "metadata": {},
   "source": [
    "## 1. Importação das bibliotecas do python \n",
    "\n",
    "Antes de tudo, é necessário importar as bibliotecas do python que utilizaremos para análisar e predizer o conjunto de dados do titanic.\n"
   ]
  },
  {
   "cell_type": "code",
   "execution_count": 68,
   "metadata": {},
   "outputs": [],
   "source": [
    "# bibliotecas de análise dos dados\n",
    "import numpy as np\n",
    "import pandas as pd\n",
    "\n",
    "# bibliotecas de visualização\n",
    "import matplotlib.pyplot as plt\n",
    "import seaborn as sns\n",
    "%matplotlib inline \n",
    "\n",
    "# ignorar warnings\n",
    "import warnings\n",
    "warnings.filterwarnings('ignore')\n"
   ]
  },
  {
   "cell_type": "markdown",
   "metadata": {},
   "source": [
    "## 2. Leitura e Análise Exploratória\n",
    "\n",
    "Para iniciar a nossa análise, precisamos realizar a leitura dos datasets de treino e teste usando a função `pd.read_csv()` do pandas, anteriormente importado.\n"
   ]
  },
  {
   "cell_type": "code",
   "execution_count": 69,
   "metadata": {},
   "outputs": [],
   "source": [
    "treino = pd.read_csv('train.csv')\n",
    "teste = pd.read_csv('test.csv')"
   ]
  },
  {
   "cell_type": "markdown",
   "metadata": {},
   "source": [
    "Podemos também utilizar algumas funcões do pandas para entender melhor nosso conjunto de dados, como `describe()` e `info()`"
   ]
  },
  {
   "cell_type": "code",
   "execution_count": 70,
   "metadata": {},
   "outputs": [
    {
     "name": "stdout",
     "output_type": "stream",
     "text": [
      "<class 'pandas.core.frame.DataFrame'>\n",
      "RangeIndex: 891 entries, 0 to 890\n",
      "Data columns (total 12 columns):\n",
      "PassengerId    891 non-null int64\n",
      "Survived       891 non-null int64\n",
      "Pclass         891 non-null int64\n",
      "Name           891 non-null object\n",
      "Sex            891 non-null object\n",
      "Age            714 non-null float64\n",
      "SibSp          891 non-null int64\n",
      "Parch          891 non-null int64\n",
      "Ticket         891 non-null object\n",
      "Fare           891 non-null float64\n",
      "Cabin          204 non-null object\n",
      "Embarked       889 non-null object\n",
      "dtypes: float64(2), int64(5), object(5)\n",
      "memory usage: 83.6+ KB\n"
     ]
    }
   ],
   "source": [
    "treino.info()\n"
   ]
  },
  {
   "cell_type": "markdown",
   "metadata": {},
   "source": [
    " - **Features Numéricas:** Age(Contínua), Fare(Contínua), SibSp(Discreta), Parch(Discreta)\n",
    " - **Features Categóricas:** Survived, Sex, Embarked, Pclass, Ticket, Cabin\n",
    " \n",
    "Breve descrição e tipo de dados das features:\n",
    " \n",
    " \n",
    " * **Survival (Int):** Informa 1 se o passageiro sobreviveu e 0 caso não.\n",
    " * **Pclass (Int):** Classe do passageiro (1 = 1ª classe; 2 = 2ª classe; 3 = 3ª classe)\n",
    " * **Name (string):** Nome do passageiro\n",
    " * **Sex (string):** Sexo do passageiro\n",
    " * **Age (float):** Idade do passageiro\n",
    " * **SibSp (int):** sigla para \"Siblings/Spouses\", ou seja, o número de irmãos e parceiros conjulgais que o passageiro tinha consigo a bordo do navio. Contam-se também a quantidade de meio-irmãos e meio-irmãs.\n",
    " * **Parch (int):** sigla para \"Parents/Child\", ou seja, o número de filhos, filhas pais e mães que o passageiro levava consigo a bordo do navio. Contam-se também  a quantidade de padrastos e madrastas. \n",
    " * **Ticket (string):** Número do ticket da viagem.\n",
    " * **Fare (float):** valor da tarifa paga pelo passageiro na época em libras esterlinas.\n",
    " * **Cabin (string):** número da cabine onde o passageiro ficou hospedado. \n",
    " * **Embarked (string):** Porto de embarque do passageiro (C = Cherbourg; Q = Queenstown; S = Southampton)\n",
    " \n",
    " \n",
    " Agora que sabemos exatamente o significado de cada uma das nossas features, podemos ver o quanto de informação cada uma delas tem para nos dar.\n"
   ]
  },
  {
   "cell_type": "code",
   "execution_count": 20,
   "metadata": {},
   "outputs": [
    {
     "data": {
      "text/html": [
       "<div>\n",
       "<style scoped>\n",
       "    .dataframe tbody tr th:only-of-type {\n",
       "        vertical-align: middle;\n",
       "    }\n",
       "\n",
       "    .dataframe tbody tr th {\n",
       "        vertical-align: top;\n",
       "    }\n",
       "\n",
       "    .dataframe thead th {\n",
       "        text-align: right;\n",
       "    }\n",
       "</style>\n",
       "<table border=\"1\" class=\"dataframe\">\n",
       "  <thead>\n",
       "    <tr style=\"text-align: right;\">\n",
       "      <th></th>\n",
       "      <th>PassengerId</th>\n",
       "      <th>Survived</th>\n",
       "      <th>Pclass</th>\n",
       "      <th>Name</th>\n",
       "      <th>Sex</th>\n",
       "      <th>Age</th>\n",
       "      <th>SibSp</th>\n",
       "      <th>Parch</th>\n",
       "      <th>Ticket</th>\n",
       "      <th>Fare</th>\n",
       "      <th>Cabin</th>\n",
       "      <th>Embarked</th>\n",
       "    </tr>\n",
       "  </thead>\n",
       "  <tbody>\n",
       "    <tr>\n",
       "      <th>count</th>\n",
       "      <td>891.000000</td>\n",
       "      <td>891.000000</td>\n",
       "      <td>891.000000</td>\n",
       "      <td>891</td>\n",
       "      <td>891</td>\n",
       "      <td>714.000000</td>\n",
       "      <td>891.000000</td>\n",
       "      <td>891.000000</td>\n",
       "      <td>891</td>\n",
       "      <td>891.000000</td>\n",
       "      <td>204</td>\n",
       "      <td>889</td>\n",
       "    </tr>\n",
       "    <tr>\n",
       "      <th>unique</th>\n",
       "      <td>NaN</td>\n",
       "      <td>NaN</td>\n",
       "      <td>NaN</td>\n",
       "      <td>891</td>\n",
       "      <td>2</td>\n",
       "      <td>NaN</td>\n",
       "      <td>NaN</td>\n",
       "      <td>NaN</td>\n",
       "      <td>681</td>\n",
       "      <td>NaN</td>\n",
       "      <td>147</td>\n",
       "      <td>3</td>\n",
       "    </tr>\n",
       "    <tr>\n",
       "      <th>top</th>\n",
       "      <td>NaN</td>\n",
       "      <td>NaN</td>\n",
       "      <td>NaN</td>\n",
       "      <td>Barber, Miss. Ellen \"Nellie\"</td>\n",
       "      <td>male</td>\n",
       "      <td>NaN</td>\n",
       "      <td>NaN</td>\n",
       "      <td>NaN</td>\n",
       "      <td>347082</td>\n",
       "      <td>NaN</td>\n",
       "      <td>C23 C25 C27</td>\n",
       "      <td>S</td>\n",
       "    </tr>\n",
       "    <tr>\n",
       "      <th>freq</th>\n",
       "      <td>NaN</td>\n",
       "      <td>NaN</td>\n",
       "      <td>NaN</td>\n",
       "      <td>1</td>\n",
       "      <td>577</td>\n",
       "      <td>NaN</td>\n",
       "      <td>NaN</td>\n",
       "      <td>NaN</td>\n",
       "      <td>7</td>\n",
       "      <td>NaN</td>\n",
       "      <td>4</td>\n",
       "      <td>644</td>\n",
       "    </tr>\n",
       "    <tr>\n",
       "      <th>mean</th>\n",
       "      <td>446.000000</td>\n",
       "      <td>0.383838</td>\n",
       "      <td>2.308642</td>\n",
       "      <td>NaN</td>\n",
       "      <td>NaN</td>\n",
       "      <td>29.699118</td>\n",
       "      <td>0.523008</td>\n",
       "      <td>0.381594</td>\n",
       "      <td>NaN</td>\n",
       "      <td>32.204208</td>\n",
       "      <td>NaN</td>\n",
       "      <td>NaN</td>\n",
       "    </tr>\n",
       "    <tr>\n",
       "      <th>std</th>\n",
       "      <td>257.353842</td>\n",
       "      <td>0.486592</td>\n",
       "      <td>0.836071</td>\n",
       "      <td>NaN</td>\n",
       "      <td>NaN</td>\n",
       "      <td>14.526497</td>\n",
       "      <td>1.102743</td>\n",
       "      <td>0.806057</td>\n",
       "      <td>NaN</td>\n",
       "      <td>49.693429</td>\n",
       "      <td>NaN</td>\n",
       "      <td>NaN</td>\n",
       "    </tr>\n",
       "    <tr>\n",
       "      <th>min</th>\n",
       "      <td>1.000000</td>\n",
       "      <td>0.000000</td>\n",
       "      <td>1.000000</td>\n",
       "      <td>NaN</td>\n",
       "      <td>NaN</td>\n",
       "      <td>0.420000</td>\n",
       "      <td>0.000000</td>\n",
       "      <td>0.000000</td>\n",
       "      <td>NaN</td>\n",
       "      <td>0.000000</td>\n",
       "      <td>NaN</td>\n",
       "      <td>NaN</td>\n",
       "    </tr>\n",
       "    <tr>\n",
       "      <th>25%</th>\n",
       "      <td>223.500000</td>\n",
       "      <td>0.000000</td>\n",
       "      <td>2.000000</td>\n",
       "      <td>NaN</td>\n",
       "      <td>NaN</td>\n",
       "      <td>20.125000</td>\n",
       "      <td>0.000000</td>\n",
       "      <td>0.000000</td>\n",
       "      <td>NaN</td>\n",
       "      <td>7.910400</td>\n",
       "      <td>NaN</td>\n",
       "      <td>NaN</td>\n",
       "    </tr>\n",
       "    <tr>\n",
       "      <th>50%</th>\n",
       "      <td>446.000000</td>\n",
       "      <td>0.000000</td>\n",
       "      <td>3.000000</td>\n",
       "      <td>NaN</td>\n",
       "      <td>NaN</td>\n",
       "      <td>28.000000</td>\n",
       "      <td>0.000000</td>\n",
       "      <td>0.000000</td>\n",
       "      <td>NaN</td>\n",
       "      <td>14.454200</td>\n",
       "      <td>NaN</td>\n",
       "      <td>NaN</td>\n",
       "    </tr>\n",
       "    <tr>\n",
       "      <th>75%</th>\n",
       "      <td>668.500000</td>\n",
       "      <td>1.000000</td>\n",
       "      <td>3.000000</td>\n",
       "      <td>NaN</td>\n",
       "      <td>NaN</td>\n",
       "      <td>38.000000</td>\n",
       "      <td>1.000000</td>\n",
       "      <td>0.000000</td>\n",
       "      <td>NaN</td>\n",
       "      <td>31.000000</td>\n",
       "      <td>NaN</td>\n",
       "      <td>NaN</td>\n",
       "    </tr>\n",
       "    <tr>\n",
       "      <th>max</th>\n",
       "      <td>891.000000</td>\n",
       "      <td>1.000000</td>\n",
       "      <td>3.000000</td>\n",
       "      <td>NaN</td>\n",
       "      <td>NaN</td>\n",
       "      <td>80.000000</td>\n",
       "      <td>8.000000</td>\n",
       "      <td>6.000000</td>\n",
       "      <td>NaN</td>\n",
       "      <td>512.329200</td>\n",
       "      <td>NaN</td>\n",
       "      <td>NaN</td>\n",
       "    </tr>\n",
       "  </tbody>\n",
       "</table>\n",
       "</div>"
      ],
      "text/plain": [
       "        PassengerId    Survived      Pclass                          Name  \\\n",
       "count    891.000000  891.000000  891.000000                           891   \n",
       "unique          NaN         NaN         NaN                           891   \n",
       "top             NaN         NaN         NaN  Barber, Miss. Ellen \"Nellie\"   \n",
       "freq            NaN         NaN         NaN                             1   \n",
       "mean     446.000000    0.383838    2.308642                           NaN   \n",
       "std      257.353842    0.486592    0.836071                           NaN   \n",
       "min        1.000000    0.000000    1.000000                           NaN   \n",
       "25%      223.500000    0.000000    2.000000                           NaN   \n",
       "50%      446.000000    0.000000    3.000000                           NaN   \n",
       "75%      668.500000    1.000000    3.000000                           NaN   \n",
       "max      891.000000    1.000000    3.000000                           NaN   \n",
       "\n",
       "         Sex         Age       SibSp       Parch  Ticket        Fare  \\\n",
       "count    891  714.000000  891.000000  891.000000     891  891.000000   \n",
       "unique     2         NaN         NaN         NaN     681         NaN   \n",
       "top     male         NaN         NaN         NaN  347082         NaN   \n",
       "freq     577         NaN         NaN         NaN       7         NaN   \n",
       "mean     NaN   29.699118    0.523008    0.381594     NaN   32.204208   \n",
       "std      NaN   14.526497    1.102743    0.806057     NaN   49.693429   \n",
       "min      NaN    0.420000    0.000000    0.000000     NaN    0.000000   \n",
       "25%      NaN   20.125000    0.000000    0.000000     NaN    7.910400   \n",
       "50%      NaN   28.000000    0.000000    0.000000     NaN   14.454200   \n",
       "75%      NaN   38.000000    1.000000    0.000000     NaN   31.000000   \n",
       "max      NaN   80.000000    8.000000    6.000000     NaN  512.329200   \n",
       "\n",
       "              Cabin Embarked  \n",
       "count           204      889  \n",
       "unique          147        3  \n",
       "top     C23 C25 C27        S  \n",
       "freq              4      644  \n",
       "mean            NaN      NaN  \n",
       "std             NaN      NaN  \n",
       "min             NaN      NaN  \n",
       "25%             NaN      NaN  \n",
       "50%             NaN      NaN  \n",
       "75%             NaN      NaN  \n",
       "max             NaN      NaN  "
      ]
     },
     "execution_count": 20,
     "metadata": {},
     "output_type": "execute_result"
    }
   ],
   "source": [
    "# Descrição breve do nosso dataset\n",
    "treino.describe(include = 'all')"
   ]
  },
  {
   "cell_type": "markdown",
   "metadata": {},
   "source": [
    "Visualizando novamente o resultado do comando `treino.info()` executado acima, podemos fazer algumas observações:\n",
    "\n",
    "* Existem 891 passageiros no nosso conjunto de treino\n",
    "* Estão faltando 177 valores sobre a idade dos passageiros. (Cerca de 19,8%)\n",
    "* Estão faltando 687 valores sobre a cabine dos passageiros. (cerca de 77.1%)\n",
    "* Estão faltando 2 valores sobre o porto de embarque dos passageiros. (Cerca de 0.22%)"
   ]
  },
  {
   "cell_type": "markdown",
   "metadata": {},
   "source": [
    "## 3. Visualização dos dados\n",
    "\n",
    "Chegou o momento de usarmos alguns gráficos para entendermos melhor como nossas features estão distribuidas e relacionadas.\n",
    "\n"
   ]
  },
  {
   "cell_type": "markdown",
   "metadata": {},
   "source": [
    "### Sex Feature"
   ]
  },
  {
   "cell_type": "code",
   "execution_count": 39,
   "metadata": {
    "scrolled": true
   },
   "outputs": [
    {
     "name": "stdout",
     "output_type": "stream",
     "text": [
      "Porcentagem de mulheres que sobreviveram: 74.20382165605095\n",
      "Porcentagem de homens que sobreviveram: 18.890814558058924\n"
     ]
    },
    {
     "data": {
      "image/png": "[encoded data removed]",
      "text/plain": [
       "<Figure size 432x288 with 1 Axes>"
      ]
     },
     "metadata": {
      "needs_background": "light"
     },
     "output_type": "display_data"
    }
   ],
   "source": [
    "# Passageiros que sobreviveram separados pelo sexo\n",
    "sns.barplot(x='Sex', y='Survived', data=treino)\n",
    "print(\"Porcentagem de mulheres que sobreviveram: {}\".format( treino[\"Survived\"][treino[\"Sex\"] == 'female'].value_counts(normalize=True)[1]*100))\n",
    "print(\"Porcentagem de homens que sobreviveram: {}\".format( treino[\"Survived\"][treino[\"Sex\"] == 'male'].value_counts(normalize=True)[1]*100))"
   ]
  },
  {
   "cell_type": "markdown",
   "metadata": {},
   "source": [
    "Podemos perceber claramente com o gráfico acima que mulheres são mais provaveis de sobreviver do que homens"
   ]
  },
  {
   "cell_type": "markdown",
   "metadata": {},
   "source": [
    "### SibSp Feature\n",
    "\n"
   ]
  },
  {
   "cell_type": "code",
   "execution_count": 45,
   "metadata": {
    "scrolled": true
   },
   "outputs": [
    {
     "name": "stdout",
     "output_type": "stream",
     "text": [
      "porcentagem de SibSp = 0 que sobreviveram: 34.53947368421053\n",
      "porcentagem de SibSp = 1 que sobreviveram: 53.588516746411486\n",
      "porcentagem de SibSp = 2 que sobreviveram: 46.42857142857143\n",
      "porcentagem de SibSp = 3 que sobreviveram: 25.0\n",
      "porcentagem de SibSp = 4 que sobreviveram: 16.666666666666664\n"
     ]
    },
    {
     "data": {
      "image/png": "[encoded data removed]",
      "text/plain": [
       "<Figure size 432x288 with 1 Axes>"
      ]
     },
     "metadata": {
      "needs_background": "light"
     },
     "output_type": "display_data"
    }
   ],
   "source": [
    "# gráfico de barras para o Número de SibSp vs Survival\n",
    "sns.barplot(x='SibSp', y='Survived', data=treino)\n",
    "\n",
    "print(\"porcentagem de SibSp = 0 que sobreviveram: {}\".format(treino[\"Survived\"][treino[\"SibSp\"] == 0].value_counts(normalize = True)[1]*100))\n",
    "print(\"porcentagem de SibSp = 1 que sobreviveram: {}\".format(treino[\"Survived\"][treino[\"SibSp\"] == 1].value_counts(normalize = True)[1]*100))\n",
    "print(\"porcentagem de SibSp = 2 que sobreviveram: {}\".format(treino[\"Survived\"][treino[\"SibSp\"] == 2].value_counts(normalize = True)[1]*100))\n",
    "print(\"porcentagem de SibSp = 3 que sobreviveram: {}\".format(treino[\"Survived\"][treino[\"SibSp\"] == 3].value_counts(normalize = True)[1]*100))\n",
    "print(\"porcentagem de SibSp = 4 que sobreviveram: {}\".format(treino[\"Survived\"][treino[\"SibSp\"] == 4].value_counts(normalize = True)[1]*100))"
   ]
  },
  {
   "cell_type": "markdown",
   "metadata": {},
   "source": [
    "Com esse gráfico, também podemos observar que o número de pessoas com menos de 5 irmãos ou conjulgues tem uma probabilidade maior de sobreviver\n",
    "do que passageiros com mais de 4 irmãos ou conjulgues.\n"
   ]
  },
  {
   "cell_type": "markdown",
   "metadata": {},
   "source": [
    "### Parch Feature"
   ]
  },
  {
   "cell_type": "code",
   "execution_count": 46,
   "metadata": {},
   "outputs": [
    {
     "data": {
      "text/plain": [
       "<matplotlib.axes._subplots.AxesSubplot at 0x235d8d33208>"
      ]
     },
     "execution_count": 46,
     "metadata": {},
     "output_type": "execute_result"
    },
    {
     "data": {
      "image/png": "[encoded data removed]",
      "text/plain": [
       "<Figure size 432x288 with 1 Axes>"
      ]
     },
     "metadata": {
      "needs_background": "light"
     },
     "output_type": "display_data"
    }
   ],
   "source": [
    "sns.barplot(x=\"Parch\", y=\"Survived\", data=treino)"
   ]
  },
  {
   "cell_type": "markdown",
   "metadata": {},
   "source": [
    "Passageiros com menos de 4 pais ou filhos a bordo tem mais chances de sobreviver. Além disso, quem está viajando sozinho tem menos chances de sobreviver do que os acompanhados. "
   ]
  },
  {
   "cell_type": "markdown",
   "metadata": {},
   "source": [
    "### Pclass Feature\n"
   ]
  },
  {
   "cell_type": "code",
   "execution_count": 51,
   "metadata": {},
   "outputs": [
    {
     "name": "stdout",
     "output_type": "stream",
     "text": [
      "Porcentagem de pessoas da 1ª classe que sobreviveram: 62.96296296296296\n",
      "Porcentagem de pessoas da 2ª classe que sobreviveram: 47.28260869565217\n",
      "Porcentagem de pessoas da 3ª classe que sobreviveram: 24.236252545824847\n"
     ]
    },
    {
     "data": {
      "image/png": "[encoded data removed]",
      "text/plain": [
       "<Figure size 432x288 with 1 Axes>"
      ]
     },
     "metadata": {
      "needs_background": "light"
     },
     "output_type": "display_data"
    }
   ],
   "source": [
    "sns.barplot(x=\"Pclass\", y=\"Survived\", data=treino)\n",
    "print(\"Porcentagem de pessoas da 1ª classe que sobreviveram: {}\".format(treino['Survived'][treino['Pclass'] == 1].value_counts(normalize=True)[1]*100))\n",
    "print(\"Porcentagem de pessoas da 2ª classe que sobreviveram: {}\".format(treino['Survived'][treino['Pclass'] == 2].value_counts(normalize=True)[1]*100))\n",
    "print(\"Porcentagem de pessoas da 3ª classe que sobreviveram: {}\".format(treino['Survived'][treino['Pclass'] == 3].value_counts(normalize=True)[1]*100))\n",
    "      "
   ]
  },
  {
   "cell_type": "markdown",
   "metadata": {},
   "source": [
    "Passageiros viajando na primeira classe tem chances maiores de sobreviver do que os que viajam nas classes inferiores."
   ]
  },
  {
   "cell_type": "markdown",
   "metadata": {},
   "source": [
    "### Age Feature\n"
   ]
  },
  {
   "cell_type": "markdown",
   "metadata": {},
   "source": [
    "Para criar gráficos que nos deem alguma informação sobre a idade dos passageiros, primeiro iremos substituir os valores faltantes pela média de todas as idades."
   ]
  },
  {
   "cell_type": "code",
   "execution_count": 75,
   "metadata": {},
   "outputs": [
    {
     "name": "stdout",
     "output_type": "stream",
     "text": [
      "Média das idades: 29.758888888888887\n"
     ]
    }
   ],
   "source": [
    "print(\"Média das idades: {}\".format(treino['Age'].mean()))"
   ]
  },
  {
   "cell_type": "code",
   "execution_count": 80,
   "metadata": {},
   "outputs": [
    {
     "data": {
      "text/plain": [
       "<matplotlib.axes._subplots.AxesSubplot at 0x235d9087780>"
      ]
     },
     "execution_count": 80,
     "metadata": {},
     "output_type": "execute_result"
    },
    {
     "data": {
      "image/png": "[encoded data removed]",
      "text/plain": [
       "<Figure size 432x288 with 1 Axes>"
      ]
     },
     "metadata": {
      "needs_background": "light"
     },
     "output_type": "display_data"
    }
   ],
   "source": [
    "#substituindo pela média arredondada.\n",
    "treino['Age'] = treino[\"Age\"].fillna(30)\n",
    "bins = [0, 5, 12, 18, 24, 60, np.inf]\n",
    "labels = [ 'Bebê', 'Criança', 'Adolescente', 'Jovem Adulto', 'Adulto', 'Idoso']\n",
    "treino['AgeGroup'] = pd.cut(treino[\"Age\"], bins, labels = labels)\n",
    "teste['AgeGroup'] = pd.cut(teste[\"Age\"], bins, labels = labels)\n",
    "sns.barplot(x=\"AgeGroup\", y=\"Survived\", data=treino)"
   ]
  },
  {
   "cell_type": "markdown",
   "metadata": {},
   "source": [
    "Podemos ver que os bebes foram os passageiros que mais tem probabilidade de sobreviver, seguido pelos adolescentes. Jovens adultos, adultos e crianças tiveram uma taxa de sobrevivência parecida. Já os idosos foram os que menos sobreviveram."
   ]
  },
  {
   "cell_type": "code",
   "execution_count": null,
   "metadata": {},
   "outputs": [],
   "source": []
  }
 ],
 "metadata": {
  "kernelspec": {
   "display_name": "Python 3",
   "language": "python",
   "name": "python3"
  },
  "language_info": {
   "codemirror_mode": {
    "name": "ipython",
    "version": 3
   },
   "file_extension": ".py",
   "mimetype": "text/x-python",
   "name": "python",
   "nbconvert_exporter": "python",
   "pygments_lexer": "ipython3",
   "version": "3.7.1"
  }
 },
 "nbformat": 4,
 "nbformat_minor": 2
}
